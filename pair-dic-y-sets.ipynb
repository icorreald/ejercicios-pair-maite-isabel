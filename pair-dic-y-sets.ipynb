{
 "cells": [
  {
   "cell_type": "markdown",
   "metadata": {},
   "source": [
    "# pair diccionarios"
   ]
  },
  {
   "cell_type": "code",
   "execution_count": 55,
   "metadata": {},
   "outputs": [
    {
     "data": {
      "text/plain": [
       "dict"
      ]
     },
     "execution_count": 55,
     "metadata": {},
     "output_type": "execute_result"
    }
   ],
   "source": [
    "# 1 diccionario vacío\n",
    "dic_vacio = {}\n",
    "type(dic_vacio)"
   ]
  },
  {
   "cell_type": "code",
   "execution_count": 37,
   "metadata": {},
   "outputs": [
    {
     "name": "stdout",
     "output_type": "stream",
     "text": [
      "{'monday': 'lunes', 'tuesday': 'martes', 'wednesday': 'miércoles', 'thursday': 'jueves', 'friday': 'viernes'}\n"
     ]
    }
   ],
   "source": [
    "# 2 diccionario con elementos (al menos 5)\n",
    "\n",
    "dic1 = {'monday':'lunes', 'tuesday':'martes', 'wednesday':'miércoles', 'thursday':'jueves', 'friday':'viernes'}\n",
    "print(dic1)"
   ]
  },
  {
   "cell_type": "code",
   "execution_count": 38,
   "metadata": {},
   "outputs": [
    {
     "name": "stdout",
     "output_type": "stream",
     "text": [
      "lunes\n"
     ]
    }
   ],
   "source": [
    "# 3 accede al valor de una clave: \n",
    "print(dic1[input('¿Qué clave quieres comprobar?')])"
   ]
  },
  {
   "cell_type": "code",
   "execution_count": 86,
   "metadata": {},
   "outputs": [
    {
     "name": "stdout",
     "output_type": "stream",
     "text": [
      "{'monday': ['lunes', 'lundi'], 'tuesday': 'martes', 'wednesday': 'miércoles', 'thursday': 'jueves', 'friday': 'viernes', 'sunday': 'no existe valor', 'saturday': 'sabado'}\n"
     ]
    }
   ],
   "source": [
    "# 4 agrega un nuevo par clave-valor al diccionario\n",
    "dic1.update({'saturday':'sabado'})\n",
    "print(dic1)\n"
   ]
  },
  {
   "cell_type": "code",
   "execution_count": 40,
   "metadata": {},
   "outputs": [
    {
     "name": "stdout",
     "output_type": "stream",
     "text": [
      "{'monday': ['lunes', 'lundi'], 'tuesday': 'martes', 'wednesday': 'miércoles', 'thursday': 'jueves', 'friday': 'viernes'}\n"
     ]
    }
   ],
   "source": [
    "# 5 actualiza el valor de una clave\n",
    "\n",
    "dic1['monday']=['lunes', 'lundi']\n",
    "print(dic1)"
   ]
  },
  {
   "cell_type": "code",
   "execution_count": 44,
   "metadata": {},
   "outputs": [
    {
     "name": "stdout",
     "output_type": "stream",
     "text": [
      "{'monday': ['lunes', 'lundi'], 'tuesday': 'martes', 'wednesday': 'miércoles', 'thursday': 'jueves'}\n"
     ]
    }
   ],
   "source": [
    "# 6 elimina un par de claves-valor\n",
    "dic2 = dic1.copy()\n",
    "\n",
    "dic2.pop('friday')\n",
    "print(dic2)\n",
    "\n"
   ]
  },
  {
   "cell_type": "code",
   "execution_count": 45,
   "metadata": {},
   "outputs": [
    {
     "data": {
      "text/plain": [
       "True"
      ]
     },
     "execution_count": 45,
     "metadata": {},
     "output_type": "execute_result"
    }
   ],
   "source": [
    "# 7 verifica si una clave está presente\n",
    "\n",
    "input(\"¿Qué clave quieres coprobar?\") in dic1"
   ]
  },
  {
   "cell_type": "code",
   "execution_count": 48,
   "metadata": {},
   "outputs": [
    {
     "name": "stdout",
     "output_type": "stream",
     "text": [
      "['monday', 'tuesday', 'wednesday', 'thursday', 'friday']\n"
     ]
    }
   ],
   "source": [
    "# 8 obtener una lista de todas las claves\n",
    "\n",
    "list_claves = list(dic1)\n",
    "print(list_claves)\n"
   ]
  },
  {
   "cell_type": "code",
   "execution_count": 51,
   "metadata": {},
   "outputs": [
    {
     "name": "stdout",
     "output_type": "stream",
     "text": [
      "[['lunes', 'lundi'], 'martes', 'miércoles', 'jueves', 'viernes']\n"
     ]
    }
   ],
   "source": [
    "# 9 obtén una lista de todos los valores\n",
    "\n",
    "list_values = list(dic1.values())\n",
    "print(list_values)"
   ]
  },
  {
   "cell_type": "code",
   "execution_count": 53,
   "metadata": {},
   "outputs": [
    {
     "name": "stdout",
     "output_type": "stream",
     "text": [
      "{'monday': ['lunes', 'lundi'], 'tuesday': 'martes', 'wednesday': 'miércoles', 'thursday': 'jueves', 'friday': 'viernes', 'sunday': 'no existe valor'}\n"
     ]
    }
   ],
   "source": [
    "# 10 setdefault para establecer un valor predeterminado\n",
    "\n",
    "dic1.setdefault('sunday', 'no existe valor')\n",
    "print(dic1)"
   ]
  },
  {
   "cell_type": "code",
   "execution_count": 90,
   "metadata": {},
   "outputs": [
    {
     "name": "stdout",
     "output_type": "stream",
     "text": [
      "vamos a usar pop para quitar monday:  ['lunes', 'lundi']\n"
     ]
    }
   ],
   "source": [
    "# 11 manipulación diccionario usando pop()\n",
    "dic2\n",
    "\n",
    "print('vamos a usar pop para quitar monday: ', dic2.pop('monday'))\n"
   ]
  },
  {
   "cell_type": "code",
   "execution_count": 92,
   "metadata": {},
   "outputs": [
    {
     "name": "stdout",
     "output_type": "stream",
     "text": [
      "vamos a usar ahora popitem() a ver qué pasa:  ('thursday', 'jueves')\n"
     ]
    }
   ],
   "source": [
    "# ahora popitem()\n",
    "print('vamos a usar ahora popitem() a ver qué pasa: ', dic2.popitem())"
   ]
  },
  {
   "cell_type": "markdown",
   "metadata": {},
   "source": [
    "# pair sets"
   ]
  },
  {
   "cell_type": "code",
   "execution_count": 113,
   "metadata": {},
   "outputs": [],
   "source": [
    "# 1 crea un conjunto vacío\n",
    "set_v = set()\n",
    "\n",
    "# 2 crea un conjunto con elementos\n",
    "set1 = {'1', '2', '3', '4', '5'}"
   ]
  },
  {
   "cell_type": "code",
   "execution_count": 142,
   "metadata": {},
   "outputs": [
    {
     "name": "stdout",
     "output_type": "stream",
     "text": [
      "{'1', '4', '23', '5', '3', '34', '2'}\n"
     ]
    }
   ],
   "source": [
    "# 3 agrega elementos a un conjunto\n",
    "\n",
    "# primero 1 solo elemento\n",
    "set_copia = set1.copy()\n",
    "set_copia.add('23')\n",
    "\n",
    "# añadir varios\n",
    "actual = ['1', '2', '3', '4', '5', '34']\n",
    "set_copia.update(actual)\n",
    "print(set_copia)\n",
    "\n"
   ]
  },
  {
   "cell_type": "code",
   "execution_count": 73,
   "metadata": {},
   "outputs": [
    {
     "name": "stdout",
     "output_type": "stream",
     "text": [
      "{'1', '4', '3', '2'}\n"
     ]
    }
   ],
   "source": [
    "# 4 eliminar un elemento\n",
    "set1.remove('5')\n",
    "print(set1)"
   ]
  },
  {
   "cell_type": "code",
   "execution_count": 74,
   "metadata": {},
   "outputs": [
    {
     "data": {
      "text/plain": [
       "False"
      ]
     },
     "execution_count": 74,
     "metadata": {},
     "output_type": "execute_result"
    }
   ],
   "source": [
    "# 5 verifica la pertenencia de un elemento\n",
    "\n",
    "'5' in set1"
   ]
  },
  {
   "cell_type": "code",
   "execution_count": 78,
   "metadata": {},
   "outputs": [
    {
     "name": "stdout",
     "output_type": "stream",
     "text": [
      "Esta es la unión:  {'4', '100', '3', '300', '1', '200', '2'}\n"
     ]
    }
   ],
   "source": [
    "# 6 realiza una unión de conjuntos\n",
    "set2 = {'1', '2', '100', '200', '300'}\n",
    "set_union = set1.union(set2)\n",
    "print('Esta es la unión: ', set_union)"
   ]
  },
  {
   "cell_type": "code",
   "execution_count": 81,
   "metadata": {},
   "outputs": [
    {
     "name": "stdout",
     "output_type": "stream",
     "text": [
      "Los elementos comunes son:  {'1', '2'}\n"
     ]
    }
   ],
   "source": [
    "# 7 una intersección\n",
    "set1.intersection(set2)\n",
    "print('Los elementos comunes son: ', set1.intersection(set2))\n"
   ]
  },
  {
   "cell_type": "code",
   "execution_count": 80,
   "metadata": {},
   "outputs": [
    {
     "name": "stdout",
     "output_type": "stream",
     "text": [
      "Los elementoss del set 1 no presentes en el set 2 es:  {'3', '4'}\n"
     ]
    }
   ],
   "source": [
    "# 8 diferencia de conjuntos\n",
    "print('Los elementoss del set 1 no presentes en el set 2 es: ', set1.difference(set2))"
   ]
  },
  {
   "cell_type": "code",
   "execution_count": 84,
   "metadata": {},
   "outputs": [
    {
     "name": "stdout",
     "output_type": "stream",
     "text": [
      "¿Todos los elementos de set1 están contenidos en set2?: False\n"
     ]
    }
   ],
   "source": [
    "# 9 verifica subconjunto\n",
    "\n",
    "print('¿Todos los elementos de set1 están contenidos en set2?:', set1.issubset(set2))"
   ]
  }
 ],
 "metadata": {
  "kernelspec": {
   "display_name": "base",
   "language": "python",
   "name": "python3"
  },
  "language_info": {
   "codemirror_mode": {
    "name": "ipython",
    "version": 3
   },
   "file_extension": ".py",
   "mimetype": "text/x-python",
   "name": "python",
   "nbconvert_exporter": "python",
   "pygments_lexer": "ipython3",
   "version": "3.9.12"
  }
 },
 "nbformat": 4,
 "nbformat_minor": 2
}
