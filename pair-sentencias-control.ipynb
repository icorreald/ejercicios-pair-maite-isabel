{
 "cells": [
  {
   "cell_type": "code",
   "execution_count": 2,
   "metadata": {},
   "outputs": [
    {
     "name": "stdout",
     "output_type": "stream",
     "text": [
      "Es negativo\n"
     ]
    }
   ],
   "source": [
    "#1 verificar si un n es positivo, negativo o 0\n",
    "\n",
    "n = int(input())\n",
    "\n",
    "if n > 0:\n",
    "    print('Es positivo')\n",
    "\n",
    "elif n == 0:\n",
    "    print('Es 0')\n",
    "    \n",
    "else:\n",
    "    print('Es negativo')\n"
   ]
  },
  {
   "cell_type": "code",
   "execution_count": 3,
   "metadata": {},
   "outputs": [
    {
     "name": "stdout",
     "output_type": "stream",
     "text": [
      "Es impar\n"
     ]
    }
   ],
   "source": [
    "#2 verificar si un n es par o impar\n",
    "n = int(input())\n",
    "\n",
    "if n % 2 == 0:\n",
    "    print('Es par')\n",
    "\n",
    "else:\n",
    "    print('Es impar')"
   ]
  },
  {
   "cell_type": "code",
   "execution_count": 4,
   "metadata": {},
   "outputs": [
    {
     "name": "stdout",
     "output_type": "stream",
     "text": [
      "Aprobaste\n"
     ]
    }
   ],
   "source": [
    "#3 verificar si un estudiante aprobó o suspendió un examen (más de 60 para el aprobado)\n",
    "nota = int(input())\n",
    "\n",
    "if nota >= 60:\n",
    "    print('Aprobaste')\n",
    "    \n",
    "else:\n",
    "    print('Suspendiste')"
   ]
  },
  {
   "cell_type": "code",
   "execution_count": 5,
   "metadata": {},
   "outputs": [
    {
     "name": "stdout",
     "output_type": "stream",
     "text": [
      "n2 es el mayor\n"
     ]
    }
   ],
   "source": [
    "#4 calcula el máximo entre dos n\n",
    "n1 = 3\n",
    "n2 = 5\n",
    "\n",
    "if n1 > n2:\n",
    "    print('n1 es el mayor')\n",
    "    \n",
    "else:\n",
    "    print('n2 es el mayor')"
   ]
  },
  {
   "cell_type": "code",
   "execution_count": 7,
   "metadata": {},
   "outputs": [
    {
     "name": "stdout",
     "output_type": "stream",
     "text": [
      "Es una vocal\n"
     ]
    }
   ],
   "source": [
    "#5 verifica si una letra es vocal o consonante \n",
    "vocales = ['A', 'E', 'I', 'O', 'U']\n",
    "letra = input('Elige una letra').upper()\n",
    "\n",
    "if letra in vocales:\n",
    "    print('Es una vocal')\n",
    "    \n",
    "else:\n",
    "    print('Es una consonante')"
   ]
  },
  {
   "cell_type": "code",
   "execution_count": 8,
   "metadata": {},
   "outputs": [
    {
     "name": "stdout",
     "output_type": "stream",
     "text": [
      "Tu descuento es de 13.0\n"
     ]
    }
   ],
   "source": [
    "#6 calcula el descuento de una compra\n",
    "monto = int(input())\n",
    "\n",
    "if monto >= 100:\n",
    "    descuento = monto * 0.10\n",
    "    print(f'Tu descuento es de {descuento}$')\n",
    "    \n",
    "else:\n",
    "    print('No tienes descuento')"
   ]
  },
  {
   "cell_type": "code",
   "execution_count": 5,
   "metadata": {},
   "outputs": [
    {
     "name": "stdout",
     "output_type": "stream",
     "text": [
      "Has elegido el año 2024\n",
      "-----------------\n",
      "Es bisiesto\n"
     ]
    }
   ],
   "source": [
    "#7 verifica si un año es bisiesto\n",
    "\n",
    "fecha = int(input())\n",
    "print(f'Has elegido el año {fecha}')\n",
    "print('-----------------')\n",
    "\n",
    "if fecha % 100 == 0 and not fecha % 400 == 0:\n",
    "    print('No es bisiesto')\n",
    "\n",
    "elif fecha % 4 == 0:\n",
    "    print('Es bisiesto')\n",
    "\n",
    "else:\n",
    "    print('No es bisiesto')"
   ]
  },
  {
   "cell_type": "code",
   "execution_count": null,
   "metadata": {},
   "outputs": [],
   "source": [
    "# resuelto en clase\n",
    "if fecha % 4 == 0:\n",
    "    if fecha % 100 == 0:\n",
    "        if fecha % 400 == 0:\n",
    "            print('bisiesto')\n",
    "        else:\n",
    "            print('no bisiesto')\n",
    "    else:\n",
    "        print('bisiesto')\n",
    "else:\n",
    "    print('bisiesto')\n",
    "\n",
    "\n",
    "# propuesta marina y fedra\n",
    "if (fecha % 4 == 0 and fecha % 100 != 0) or (fecha % 400 == 0):\n",
    "    print('bisiesto')\n",
    "\n",
    "else:\n",
    "    print('no bisiesto')"
   ]
  },
  {
   "cell_type": "code",
   "execution_count": 15,
   "metadata": {},
   "outputs": [
    {
     "name": "stdout",
     "output_type": "stream",
     "text": [
      "Tu edad es 25\n",
      "Eres adulto\n"
     ]
    }
   ],
   "source": [
    "#8 asigna una categoría a una edad\n",
    "edad = int(input())\n",
    "print(f'Tu edad es {edad}')\n",
    "\n",
    "if edad < 18:\n",
    "    print('Eres menor de edad')\n",
    "\n",
    "elif 64 >= edad >= 18:\n",
    "    print('Eres adulto')\n",
    "    \n",
    "else:\n",
    "    print('Eres adulto mayor')"
   ]
  },
  {
   "cell_type": "code",
   "execution_count": 20,
   "metadata": {},
   "outputs": [
    {
     "name": "stdout",
     "output_type": "stream",
     "text": [
      "hipotenusa: 10.0\n",
      "catet0 1: 8.0\n",
      "cateto 2: 6.0\n",
      "Es un triángulo rectángulo\n"
     ]
    }
   ],
   "source": [
    "#9 verifica si tres números forman un triángulo rectángulo\n",
    "h = float(input('Escribe la hipotenusa'))\n",
    "c1 = float(input('Escribe un cateto'))\n",
    "c2 = float(input('escribe otro cateto'))\n",
    "\n",
    "print(f'hipotenusa: {h}')\n",
    "print(f'catet0 1: {c1}')\n",
    "print(f'cateto 2: {c2}')\n",
    "\n",
    "\n",
    "if h**2 == c1**2 + c2**2:\n",
    "    print('Es un triángulo rectángulo')\n",
    "\n",
    "else:\n",
    "    print('No es rectángulo')"
   ]
  },
  {
   "cell_type": "code",
   "execution_count": 21,
   "metadata": {},
   "outputs": [
    {
     "name": "stdout",
     "output_type": "stream",
     "text": [
      "Tu nota es: 76\n",
      "Tienes una C\n"
     ]
    }
   ],
   "source": [
    "#10 asignar una calificación a una puntuación\n",
    "puntuacion = int(input('Pon tu nota'))\n",
    "print(f'Tu nota es: {puntuacion}')\n",
    "\n",
    "if puntuacion >= 90:\n",
    "    print('Tienes una A')\n",
    "\n",
    "elif puntuacion >= 80:\n",
    "    print('Tienes una B')\n",
    "\n",
    "elif puntuacion >= 70:\n",
    "    print('Tienes una C')\n",
    "\n",
    "elif puntuacion >= 60:\n",
    "    print('Tienes una D')\n",
    "    \n",
    "else:\n",
    "    print('Tienes una F')\n"
   ]
  },
  {
   "cell_type": "code",
   "execution_count": 1,
   "metadata": {},
   "outputs": [
    {
     "name": "stdout",
     "output_type": "stream",
     "text": [
      "Tu peso es 70.0kg y tu altura es 1.68m\n",
      "------------\n",
      "Tu IMC es 24.801587301587304\n",
      "------------\n",
      "Es peso normal\n"
     ]
    }
   ],
   "source": [
    "#11 calcula IMC y categorizalo\n",
    "peso = float(input('Tu peso en KG'))\n",
    "altura = float(input('Tu altura en metros'))\n",
    "\n",
    "print(f'Tu peso es {peso}kg y tu altura es {altura}m')\n",
    "print('------------')\n",
    "\n",
    "\n",
    "imc = peso/altura**2\n",
    "print(f'Tu IMC es {imc}')\n",
    "print('------------')\n",
    "\n",
    "\n",
    "if imc < 18.5:\n",
    "    print('Tu peso es bajo')\n",
    "\n",
    "elif 18.5 < imc < 25:\n",
    "    print('Es peso normal')\n",
    "\n",
    "elif 25 < imc < 29.9:\n",
    "    print('Sobrepeso')\n",
    "\n",
    "else:\n",
    "    print('Obesidad')"
   ]
  },
  {
   "cell_type": "code",
   "execution_count": 29,
   "metadata": {},
   "outputs": [
    {
     "name": "stdout",
     "output_type": "stream",
     "text": [
      "Tus números son 2, 4 y 3\n",
      "------------\n",
      "4 es el mayor\n"
     ]
    }
   ],
   "source": [
    "#12 calcula el mayor de tres números\n",
    "n1 = 2\n",
    "n2 = 4\n",
    "n3 = 3\n",
    "print(f'Tus números son {n1}, {n2} y {n3}')\n",
    "print('------------')\n",
    "\n",
    "\n",
    "if n1 > n2 and n1 > n3:\n",
    "    print(f'{n1} es el mayor')\n",
    "\n",
    "else:\n",
    "    if n2 > n3:\n",
    "        print(f'{n2} es el mayor')\n",
    "\n",
    "    else:\n",
    "        print(f'{n3} es el mayor')"
   ]
  },
  {
   "cell_type": "code",
   "execution_count": 35,
   "metadata": {},
   "outputs": [
    {
     "name": "stdout",
     "output_type": "stream",
     "text": [
      "La fecha 2/0/2024 no es válida\n"
     ]
    }
   ],
   "source": [
    "#13 BONUS: verifica la validez de esta fecha\n",
    "meses31 = {1, 3, 5, 7, 8, 10, 12}\n",
    "\n",
    "dia = int(input('dia (introduce valor numérico)'))\n",
    "mes = int(input('mes (introduce valor numérico)'))\n",
    "ano = int(input('año (introduce valor numérico)'))\n",
    "\n",
    "\n",
    "\n",
    "if ano <= 2024 and 0 < mes <= 12 and 0 < dia :\n",
    "    if mes == 2:\n",
    "        if (ano % 4 == 0 and ano % 100 != 0) or (ano % 400 == 0):\n",
    "            print(f'La fecha {dia}/{mes}/{ano} es válida')\n",
    "        else:\n",
    "            print(f'La fecha {dia}/{mes}/{ano} no es válida')\n",
    "\n",
    "    elif dia > 30 and mes in meses31:\n",
    "        print(f'La fecha {dia}/{mes}/{ano} es válida')\n",
    "\n",
    "    else:\n",
    "        print(f'La fecha {dia}/{mes}/{ano} no es válida')\n",
    "else:\n",
    "    print(f'La fecha {dia}/{mes}/{ano} no es válida')\n"
   ]
  }
 ],
 "metadata": {
  "kernelspec": {
   "display_name": "base",
   "language": "python",
   "name": "python3"
  },
  "language_info": {
   "codemirror_mode": {
    "name": "ipython",
    "version": 3
   },
   "file_extension": ".py",
   "mimetype": "text/x-python",
   "name": "python",
   "nbconvert_exporter": "python",
   "pygments_lexer": "ipython3",
   "version": "3.9.7"
  }
 },
 "nbformat": 4,
 "nbformat_minor": 2
}
